{
 "cells": [
  {
   "cell_type": "code",
   "execution_count": 9,
   "id": "e770eeb4",
   "metadata": {},
   "outputs": [
    {
     "name": "stdout",
     "output_type": "stream",
     "text": [
      "{'_id': ObjectId('63a1c69ec027ce1281fb9899'), 'Name': 'John', 'Phone number': '123-456-7890', 'Place': 'New York'}\n",
      "{'_id': ObjectId('63a1c6b5c027ce1281fb989b'), 'Name': 'John', 'Phone number': '123-456-7890', 'Place': 'New York'}\n",
      "{'_id': ObjectId('63a1c6bdc027ce1281fb989d'), 'Name': 'John', 'Phone number': '123-456-7890', 'Place': 'New York'}\n",
      "{'_id': ObjectId('63a1c6edc027ce1281fb989f'), 'Name': 'John', 'Phone number': '123-456-7890', 'Place': 'New York'}\n",
      "{'_id': ObjectId('63a1c69ec027ce1281fb9899'), 'Name': 'John', 'Phone number': '123-456-7890', 'Place': 'New York'}\n",
      "1\n"
     ]
    }
   ],
   "source": [
    "import pymongo\n",
    "\n",
    "client = pymongo.MongoClient(\"mongodb://localhost:27017/\")\n",
    "mydb = client [\"mytaskdatabase\"] \n",
    "mycol = mydb [\"Telephone\"] \n",
    "document = { \"Name\": \"John\", \"Phone number\": \"123-456-7890\", \"Place\": \"New York\" }\n",
    "x = mycol.insert_one(document)\n",
    "for x in mycol.find():\n",
    "    print (x)\n",
    "query = { \"Name\": \"John\" }\n",
    "result = mycol.find_one(query)\n",
    "\n",
    "print(result)\n",
    "update = { \"$set\": { \"Place\": \"Los Angeles\" } }\n",
    "result = mycol.update_one(query, update)\n",
    "\n",
    "print(result.modified_count)\n"
   ]
  },
  {
   "cell_type": "code",
   "execution_count": null,
   "id": "afb8dea4",
   "metadata": {},
   "outputs": [],
   "source": []
  }
 ],
 "metadata": {
  "kernelspec": {
   "display_name": "Python 3 (ipykernel)",
   "language": "python",
   "name": "python3"
  },
  "language_info": {
   "codemirror_mode": {
    "name": "ipython",
    "version": 3
   },
   "file_extension": ".py",
   "mimetype": "text/x-python",
   "name": "python",
   "nbconvert_exporter": "python",
   "pygments_lexer": "ipython3",
   "version": "3.9.13"
  }
 },
 "nbformat": 4,
 "nbformat_minor": 5
}
